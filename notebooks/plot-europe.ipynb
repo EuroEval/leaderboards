{
 "cells": [
  {
   "cell_type": "code",
   "execution_count": null,
   "id": "0",
   "metadata": {
    "jupyter": {
     "source_hidden": true
    }
   },
   "outputs": [],
   "source": [
    "# Imports\n",
    "\n",
    "\n",
    "import geopandas as gpd\n",
    "import matplotlib.cm as cm\n",
    "import matplotlib.pyplot as plt\n",
    "import pandas as pd"
   ]
  },
  {
   "cell_type": "code",
   "execution_count": null,
   "id": "1",
   "metadata": {},
   "outputs": [],
   "source": [
    "records = [\n",
    "    {\"country\": \"Faroe Islands\", \"coverage\": 1},\n",
    "    {\"country\": \"United Kingdom\", \"coverage\": 1},\n",
    "    {\"country\": \"Norway\", \"coverage\": 1},\n",
    "    {\"country\": \"Denmark\", \"coverage\": 1},\n",
    "    {\"country\": \"France\", \"coverage\": 1},\n",
    "    {\"country\": \"Sweden\", \"coverage\": 1},\n",
    "    {\"country\": \"Belarus\", \"coverage\": 0},\n",
    "    {\"country\": \"Ukraine\", \"coverage\": 0},\n",
    "    {\"country\": \"Poland\", \"coverage\": 1},\n",
    "    {\"country\": \"Austria\", \"coverage\": 1},\n",
    "    {\"country\": \"Hungary\", \"coverage\": 0},\n",
    "    {\"country\": \"Moldova\", \"coverage\": 0},\n",
    "    {\"country\": \"Romania\", \"coverage\": 0},\n",
    "    {\"country\": \"Lithuania\", \"coverage\": 1},\n",
    "    {\"country\": \"Latvia\", \"coverage\": 1},\n",
    "    {\"country\": \"Estonia\", \"coverage\": 1},\n",
    "    {\"country\": \"Germany\", \"coverage\": 1},\n",
    "    {\"country\": \"Bulgaria\", \"coverage\": 0},\n",
    "    {\"country\": \"Greece\", \"coverage\": 0},\n",
    "    {\"country\": \"Albania\", \"coverage\": 0},\n",
    "    {\"country\": \"Croatia\", \"coverage\": 0},\n",
    "    {\"country\": \"Switzerland\", \"coverage\": 1},\n",
    "    {\"country\": \"Luxembourg\", \"coverage\": 0},\n",
    "    {\"country\": \"Belgium\", \"coverage\": 1},\n",
    "    {\"country\": \"Netherlands\", \"coverage\": 1},\n",
    "    {\"country\": \"Portugal\", \"coverage\": 1},\n",
    "    {\"country\": \"Spain\", \"coverage\": 1},\n",
    "    {\"country\": \"Ireland\", \"coverage\": 1},\n",
    "    {\"country\": \"Italy\", \"coverage\": 1},\n",
    "    {\"country\": \"Iceland\", \"coverage\": 1},\n",
    "    {\"country\": \"Slovenia\", \"coverage\": 0},\n",
    "    {\"country\": \"Finland\", \"coverage\": 1},\n",
    "    {\"country\": \"Slovakia\", \"coverage\": 0},\n",
    "    {\"country\": \"Czechia\", \"coverage\": 0.5},\n",
    "    {\"country\": \"Bosnia and Herzegovina\", \"coverage\": 0},\n",
    "    {\"country\": \"North Macedonia\", \"coverage\": 0},\n",
    "    {\"country\": \"Republic of Serbia\", \"coverage\": 0},\n",
    "    {\"country\": \"Montenegro\", \"coverage\": 0},\n",
    "    {\"country\": \"Kosovo\", \"coverage\": 0},\n",
    "]"
   ]
  },
  {
   "cell_type": "code",
   "execution_count": null,
   "id": "2",
   "metadata": {
    "jupyter": {
     "source_hidden": true
    }
   },
   "outputs": [],
   "source": [
    "# Create coverage dataframe\n",
    "\n",
    "# Create dataframe which contains information about EuroEval coverage\n",
    "euroeval_df = pd.DataFrame.from_records(records)\n",
    "euroeval_df.coverage = euroeval_df.coverage.map(\n",
    "    {\n",
    "        0: \"Not included in EuroEval yet\",\n",
    "        0.5: \"Included in EuroEval, but no leaderboards yet\",\n",
    "        1: \" Included in EuroEval and leaderboards live\",\n",
    "    }\n",
    ")\n",
    "\n",
    "europe_df = (\n",
    "    gpd.read_file(\"country-data/ne_110m_admin_0_countries.shp\")\n",
    "    .query('CONTINENT == \"Europe\"')\n",
    "    .rename(columns=dict(ADMIN=\"country\"))[[\"country\", \"geometry\"]]\n",
    ")\n",
    "\n",
    "# Add Faroe Islands\n",
    "fo_df = gpd.read_file(\"country-data/fo.json\").rename(columns=dict(name=\"country\"))[\n",
    "    [\"country\", \"geometry\"]\n",
    "]\n",
    "fo_df.country = \"Faroe Islands\"\n",
    "europe_df = pd.concat([europe_df, fo_df])\n",
    "\n",
    "# Merge the Europe dataframe with the EuroEval dataframe\n",
    "merged_df = pd.merge(\n",
    "    left=europe_df, right=euroeval_df, how=\"inner\", on=\"country\"\n",
    ").sort_values(by=\"country\")"
   ]
  },
  {
   "cell_type": "code",
   "execution_count": null,
   "id": "3",
   "metadata": {
    "jupyter": {
     "source_hidden": true
    }
   },
   "outputs": [],
   "source": [
    "# Create plot\n",
    "\n",
    "fig, ax = plt.subplots(1, 1, figsize=(8, 8))\n",
    "\n",
    "# Create plot\n",
    "merged_df.plot(\n",
    "    column=\"coverage\",\n",
    "    cmap=cm.managua_r,\n",
    "    # norm=mcolors.Normalize(vmin=-0.2, vmax=2.5),\n",
    "    ax=ax,\n",
    "    edgecolor=\"black\",\n",
    "    linewidth=0.1,\n",
    "    legend=True,\n",
    "    legend_kwds=dict(loc=\"upper left\"),\n",
    ")\n",
    "\n",
    "# Adjust to only show Europe\n",
    "ax.set_xlim(-24, 41)\n",
    "ax.set_ylim(35, 71)\n",
    "\n",
    "# Remove axes\n",
    "ax.axis(\"off\")\n",
    "\n",
    "# Add title\n",
    "ax.set_title(\"EuroEval Coverage\", fontsize=16)\n",
    "\n",
    "# Show plot\n",
    "plt.tight_layout()\n",
    "plt.savefig(\"euroeval_coverage.png\", dpi=300)\n",
    "plt.show()"
   ]
  }
 ],
 "metadata": {
  "kernelspec": {
   "display_name": "Python 3 (ipykernel)",
   "language": "python",
   "name": "python3"
  },
  "language_info": {
   "codemirror_mode": {
    "name": "ipython",
    "version": 3
   },
   "file_extension": ".py",
   "mimetype": "text/x-python",
   "name": "python",
   "nbconvert_exporter": "python",
   "pygments_lexer": "ipython3",
   "version": "3.11.10"
  }
 },
 "nbformat": 4,
 "nbformat_minor": 5
}
