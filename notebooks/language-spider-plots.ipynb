{
 "cells": [
  {
   "cell_type": "code",
   "execution_count": null,
   "id": "0",
   "metadata": {},
   "outputs": [],
   "source": [
    "import pandas as pd\n",
    "import re\n",
    "import plotly.graph_objects as go"
   ]
  },
  {
   "cell_type": "code",
   "execution_count": null,
   "id": "1",
   "metadata": {},
   "outputs": [],
   "source": [
    "df = pd.read_csv(\n",
    "    \"https://raw.githubusercontent.com/EuroEval/leaderboards/refs/heads/main/leaderboards/european_all.csv\"\n",
    ")\n",
    "df.head(2)"
   ]
  },
  {
   "cell_type": "code",
   "execution_count": null,
   "id": "2",
   "metadata": {},
   "outputs": [],
   "source": [
    "columns_to_drop = [col for col in df.columns if col.endswith(\"_version\")]\n",
    "columns_to_drop += [col.replace(\"_version\", \"\") for col in columns_to_drop]\n",
    "columns_to_drop += [\n",
    "    \"generative_type\",\n",
    "    \"parameters\",\n",
    "    \"vocabulary_size\",\n",
    "    \"context\",\n",
    "    \"commercial\",\n",
    "    \"merge\",\n",
    "    \"rank\",\n",
    "]\n",
    "\n",
    "clean_df = (\n",
    "    df.map(lambda x: x.split(\"@@\")[0] if isinstance(x, str) else x)\n",
    "    .map(lambda x: re.sub(r\"<.*?>(.*?)</.*>\", r\"\\1\", x) if isinstance(x, str) else x)\n",
    "    .map(lambda x: None if isinstance(x, str) and \"few-shot\" in x else x)\n",
    "    .map(lambda x: re.sub(r\" \\(.*\\)$\", \"\", x) if isinstance(x, str) else x)\n",
    "    .map(lambda x: None if x == \"-\" else x)\n",
    "    .map(lambda x: re.sub(r\"^(gemini|xai)/\", \"\", x) if isinstance(x, str) else x)\n",
    "    .drop(columns=columns_to_drop)\n",
    "    .dropna()\n",
    "    .set_index(\"model\")\n",
    "    .map(float)\n",
    ")\n",
    "clean_df"
   ]
  },
  {
   "cell_type": "code",
   "execution_count": null,
   "id": "3",
   "metadata": {},
   "outputs": [],
   "source": [
    "def plot_models(models: list[str], title: str) -> None:\n",
    "    \"\"\"Create a spider plot of a list of models.\"\"\"\n",
    "    fig = go.Figure()\n",
    "\n",
    "    for model in models:\n",
    "        model_scores = clean_df.loc[model, :].tolist()\n",
    "        trace = go.Scatterpolar(\n",
    "            r=model_scores,\n",
    "            theta=[x.capitalize() for x in clean_df.columns],\n",
    "            name=model,\n",
    "            fill=\"toself\",\n",
    "        )\n",
    "        fig.add_trace(trace)\n",
    "\n",
    "    fig.update_layout(\n",
    "        polar=dict(radialaxis=dict(range=[4, 1])),\n",
    "        showlegend=True,\n",
    "        title=title.strip() + \" (smaller is better)\",\n",
    "        width=800,\n",
    "        height=500,\n",
    "    )\n",
    "    fig.show(config=dict(toImageButtonOptions=dict(scale=6)))"
   ]
  },
  {
   "cell_type": "code",
   "execution_count": null,
   "id": "4",
   "metadata": {},
   "outputs": [],
   "source": [
    "plot_models(\n",
    "    models=[\n",
    "        \"gemini-2.5-pro-preview-03-25\",\n",
    "        \"gpt-4.1-2025-04-14\",\n",
    "        \"claude-3-7-sonnet-20241022\",\n",
    "        # \"gemini-2.0-flash-001\",\n",
    "        #'grok-2-1212',\n",
    "    ],\n",
    "    title=\"European Performance of State-of-the-art API LLMs\",\n",
    ")"
   ]
  },
  {
   "cell_type": "code",
   "execution_count": null,
   "id": "5",
   "metadata": {},
   "outputs": [],
   "source": [
    "plot_models(\n",
    "    models=[\n",
    "        \"gemini-2.0-flash-lite-001\",\n",
    "        \"gpt-4.1-mini-2025-04-14\",\n",
    "        \"claude-3-5-haiku-20241022\",\n",
    "    ],\n",
    "    title=\"European Performance of Fast and Cheap API LLMs\",\n",
    ")"
   ]
  }
 ],
 "metadata": {
  "kernelspec": {
   "display_name": "Python 3 (ipykernel)",
   "language": "python",
   "name": "python3"
  },
  "language_info": {
   "codemirror_mode": {
    "name": "ipython",
    "version": 3
   },
   "file_extension": ".py",
   "mimetype": "text/x-python",
   "name": "python",
   "nbconvert_exporter": "python",
   "pygments_lexer": "ipython3",
   "version": "3.11.10"
  }
 },
 "nbformat": 4,
 "nbformat_minor": 5
}
