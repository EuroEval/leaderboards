{
 "cells": [
  {
   "cell_type": "code",
   "execution_count": null,
   "id": "0",
   "metadata": {},
   "outputs": [],
   "source": [
    "import re\n",
    "\n",
    "import pandas as pd\n",
    "import plotly.graph_objects as go"
   ]
  },
  {
   "cell_type": "code",
   "execution_count": null,
   "id": "1",
   "metadata": {},
   "outputs": [],
   "source": [
    "df = pd.read_csv(\n",
    "    \"https://raw.githubusercontent.com/EuroEval/leaderboards/refs/heads/main/leaderboards/european_all.csv\",\n",
    "    header=1,\n",
    ")\n",
    "df.head(2)"
   ]
  },
  {
   "cell_type": "code",
   "execution_count": null,
   "id": "2",
   "metadata": {},
   "outputs": [],
   "source": [
    "columns_to_drop = [col for col in df.columns if col.endswith(\"_version\")]\n",
    "columns_to_drop += [col.replace(\"_version\", \"\") for col in columns_to_drop]\n",
    "columns_to_drop += [\n",
    "    \"generative_type\",\n",
    "    \"parameters\",\n",
    "    \"vocabulary_size\",\n",
    "    \"context\",\n",
    "    \"commercial\",\n",
    "    \"merge\",\n",
    "    \"rank\",\n",
    "]\n",
    "\n",
    "clean_df = df.copy()\n",
    "clean_df.model = clean_df.model.map(lambda x: re.sub(r\"<.*?>(.*?)</.*>\", r\"\\1\", x)).map(\n",
    "    lambda x: re.sub(r\"^(gemini|xai)/\", \"\", x)\n",
    ")\n",
    "clean_df = (\n",
    "    clean_df.set_index(\"model\")\n",
    "    .drop(columns=columns_to_drop)\n",
    "    .map(lambda x: x.split(\"@@\")[0] if isinstance(x, str) else x)\n",
    "    .map(lambda x: None if x == \"-\" else x)\n",
    "    .astype(float)\n",
    ")\n",
    "\n",
    "zero_shot_df = (\n",
    "    clean_df.reset_index()\n",
    "    .map(lambda x: None if isinstance(x, str) and \"zero-shot\" not in x else x)\n",
    "    .map(lambda x: re.sub(r\" \\(.*\", \"\", x) if isinstance(x, str) else x)\n",
    "    .map(lambda x: re.sub(r\"^.*/\", \"\", x) if isinstance(x, str) else x)\n",
    "    .set_index(\"model\")\n",
    ")\n",
    "\n",
    "few_shot_df = (\n",
    "    clean_df.reset_index()\n",
    "    .map(lambda x: None if isinstance(x, str) and \"zero-shot\" in x else x)\n",
    "    .map(lambda x: re.sub(r\" \\(.*\", \"\", x) if isinstance(x, str) else x)\n",
    "    .map(lambda x: re.sub(r\"^.*/\", \"\", x) if isinstance(x, str) else x)\n",
    "    .dropna()\n",
    "    .set_index(\"model\")\n",
    ")"
   ]
  },
  {
   "cell_type": "code",
   "execution_count": null,
   "id": "3",
   "metadata": {},
   "outputs": [],
   "source": [
    "def plot_models(\n",
    "    df: pd.DataFrame,\n",
    "    models: list[str],\n",
    "    title: str,\n",
    "    max_score: float,\n",
    "    colours: list[str] | None,\n",
    ") -> None:\n",
    "    \"\"\"Create a spider plot of a list of models.\"\"\"\n",
    "    fig = go.Figure()\n",
    "\n",
    "    if colours is None:\n",
    "        colours = [None] * models\n",
    "\n",
    "    for model, colour in zip(models, colours):\n",
    "        model_scores = df.loc[model, :].tolist()\n",
    "        trace = go.Scatterpolar(\n",
    "            r=model_scores,\n",
    "            theta=[x.capitalize() for x in clean_df.columns],\n",
    "            name=model,\n",
    "            fill=\"toself\",\n",
    "            line=dict(color=colour),\n",
    "        )\n",
    "        fig.add_trace(trace)\n",
    "\n",
    "    fig.update_layout(\n",
    "        polar=dict(radialaxis=dict(range=[max_score, 1])),\n",
    "        showlegend=True,\n",
    "        title=title.strip() + \" (smaller is better)\",\n",
    "        width=800,\n",
    "        height=500,\n",
    "    )\n",
    "    fig.show(config=dict(toImageButtonOptions=dict(scale=6)))"
   ]
  },
  {
   "cell_type": "code",
   "execution_count": null,
   "id": "4",
   "metadata": {},
   "outputs": [],
   "source": [
    "plot_models(\n",
    "    df=few_shot_df,\n",
    "    models=[\n",
    "        \"Llama-3.1-8B-Instruct\",\n",
    "        \"Apertus-8B-Instruct-2509\",\n",
    "        \"Mistral-7B-Instruct-v0.1\",\n",
    "    ],\n",
    "    colours=[\"dodgerblue\", \"lightgreen\", \"orange\"],\n",
    "    title=\"Few-shot Performance of 8B-sized instruction-tuned LLMs\",\n",
    "    max_score=4.5,\n",
    ")"
   ]
  },
  {
   "cell_type": "code",
   "execution_count": null,
   "id": "5",
   "metadata": {},
   "outputs": [],
   "source": [
    "plot_models(\n",
    "    df=few_shot_df,\n",
    "    models=[\"Llama-3.1-8B\", \"Apertus-8B-2509\", \"Mistral-7B-v0.1\"],\n",
    "    colours=[\"dodgerblue\", \"lightgreen\", \"orange\"],\n",
    "    title=\"Few-shot Performance of 8B-sized base LLMs\",\n",
    "    max_score=4.5,\n",
    ")"
   ]
  },
  {
   "cell_type": "code",
   "execution_count": null,
   "id": "6",
   "metadata": {},
   "outputs": [],
   "source": [
    "plot_models(\n",
    "    df=few_shot_df,\n",
    "    models=[\n",
    "        \"Llama-3.3-70B-Instruct\",\n",
    "        \"Apertus-70B-Instruct-2509\",\n",
    "        \"Llama-2-70b-chat-hf\",\n",
    "    ],\n",
    "    colours=[\"dodgerblue\", \"lightgreen\", \"orange\"],\n",
    "    title=\"Few-shot Performance of 70B-sized instruction-tuned LLMs\",\n",
    "    max_score=4.5,\n",
    ")"
   ]
  },
  {
   "cell_type": "code",
   "execution_count": null,
   "id": "7",
   "metadata": {},
   "outputs": [],
   "source": [
    "plot_models(\n",
    "    df=few_shot_df,\n",
    "    models=[\"Llama-3.1-70B\", \"Apertus-70B-2509\", \"Llama-2-70b-hf\"],\n",
    "    colours=[\"dodgerblue\", \"lightgreen\", \"orange\"],\n",
    "    title=\"Few-shot Performance of 70B-sized base LLMs\",\n",
    "    max_score=4.5,\n",
    ")"
   ]
  },
  {
   "cell_type": "code",
   "execution_count": null,
   "id": "8",
   "metadata": {},
   "outputs": [],
   "source": [
    "plot_models(\n",
    "    df=few_shot_df,\n",
    "    models=[\"Apertus-70B-Instruct-2509\", \"Apertus-8B-Instruct-2509\"],\n",
    "    colours=[\"dodgerblue\", \"lightgreen\"],\n",
    "    title=\"Few-shot Performance of Apertus instruction-tuned LLMs\",\n",
    "    max_score=4.5,\n",
    ")"
   ]
  },
  {
   "cell_type": "code",
   "execution_count": null,
   "id": "9",
   "metadata": {},
   "outputs": [],
   "source": []
  }
 ],
 "metadata": {
  "kernelspec": {
   "display_name": "Python 3 (ipykernel)",
   "language": "python",
   "name": "python3"
  },
  "language_info": {
   "codemirror_mode": {
    "name": "ipython",
    "version": 3
   },
   "file_extension": ".py",
   "mimetype": "text/x-python",
   "name": "python",
   "nbconvert_exporter": "python",
   "pygments_lexer": "ipython3",
   "version": "3.11.10"
  }
 },
 "nbformat": 4,
 "nbformat_minor": 5
}
